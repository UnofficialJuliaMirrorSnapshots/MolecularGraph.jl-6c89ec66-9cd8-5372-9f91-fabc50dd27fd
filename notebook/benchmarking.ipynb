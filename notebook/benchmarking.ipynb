{
 "cells": [
  {
   "cell_type": "code",
   "execution_count": 4,
   "metadata": {
    "ExecuteTime": {
     "end_time": "2018-12-24T22:41:44.766000+09:00",
     "start_time": "2018-12-24T13:41:42.829Z"
    },
    "scrolled": false
   },
   "outputs": [],
   "source": [
    "import Pkg\n",
    "Pkg.activate(\"..\")\n",
    "using Profile\n",
    "using MolecularGraph"
   ]
  },
  {
   "cell_type": "code",
   "execution_count": 5,
   "metadata": {
    "ExecuteTime": {
     "end_time": "2018-12-24T22:41:45.866000+09:00",
     "start_time": "2018-12-24T13:41:45.749Z"
    }
   },
   "outputs": [
    {
     "data": {
      "text/plain": [
       "loadsdf (generic function with 1 method)"
      ]
     },
     "execution_count": 5,
     "metadata": {},
     "output_type": "execute_result"
    }
   ],
   "source": [
    "path =  joinpath(dirname(@__FILE__), \"..\", \"_resources\", \"open structures.sdf\")\n",
    "\n",
    "function loadsdf()\n",
    "    for (i, m) in enumerate(sdfilereader(open(path)))\n",
    "        drawsvg!(m, 400, 400)\n",
    "    end\n",
    "    println(\"ok\")\n",
    "    return\n",
    "end"
   ]
  },
  {
   "cell_type": "code",
   "execution_count": 6,
   "metadata": {
    "ExecuteTime": {
     "end_time": "2018-12-24T22:41:57.667000+09:00",
     "start_time": "2018-12-24T13:41:48.213Z"
    }
   },
   "outputs": [
    {
     "name": "stdout",
     "output_type": "stream",
     "text": [
      "ok\n"
     ]
    }
   ],
   "source": [
    "# @profile loadsdf()\n",
    "# Profile.print()\n",
    "# Profile.print(format=:flat)\n",
    "\n",
    "loadsdf()"
   ]
  }
 ],
 "metadata": {
  "kernelspec": {
   "display_name": "Julia 1.0.1",
   "language": "julia",
   "name": "julia-1.0"
  },
  "language_info": {
   "file_extension": ".jl",
   "mimetype": "application/julia",
   "name": "julia",
   "version": "1.0.1"
  }
 },
 "nbformat": 4,
 "nbformat_minor": 2
}

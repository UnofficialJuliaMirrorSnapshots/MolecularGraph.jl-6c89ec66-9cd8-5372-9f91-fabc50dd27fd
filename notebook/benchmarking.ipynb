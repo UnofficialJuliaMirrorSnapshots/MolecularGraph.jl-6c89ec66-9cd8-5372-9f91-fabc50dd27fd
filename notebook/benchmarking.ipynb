{
 "cells": [
  {
   "cell_type": "code",
   "execution_count": 1,
   "metadata": {
    "ExecuteTime": {
     "end_time": "2019-04-17T23:22:46.998000+09:00",
     "start_time": "2019-04-17T14:22:39.386Z"
    },
    "scrolled": false
   },
   "outputs": [
    {
     "name": "stderr",
     "output_type": "stream",
     "text": [
      "┌ Info: Recompiling stale cache file /Users/smatsuoka/.julia/compiled/v1.1/MolecularGraph/6vz1i.ji for MolecularGraph [6c89ec66-9cd8-5372-9f91-fabc50dd27fd]\n",
      "└ @ Base loading.jl:1184\n"
     ]
    },
    {
     "name": "stdout",
     "output_type": "stream",
     "text": [
      "loading: funcgroup.yaml\n",
      "loading: ring.yaml\n",
      "loading: biomolecule.yaml\n"
     ]
    }
   ],
   "source": [
    "import Pkg\n",
    "Pkg.activate(\"..\")\n",
    "using Profile\n",
    "using MolecularGraph"
   ]
  },
  {
   "cell_type": "code",
   "execution_count": 2,
   "metadata": {
    "ExecuteTime": {
     "end_time": "2019-04-17T23:22:47.887000+09:00",
     "start_time": "2019-04-17T14:22:39.387Z"
    }
   },
   "outputs": [
    {
     "data": {
      "text/plain": [
       "loadsdf (generic function with 1 method)"
      ]
     },
     "execution_count": 2,
     "metadata": {},
     "output_type": "execute_result"
    }
   ],
   "source": [
    "path =  joinpath(dirname(@__FILE__), \"..\", \"_resources\", \"open structures.sdf\")\n",
    "# path =  joinpath(dirname(@__FILE__), \"..\", \"_resources\", \"DrugBank_FDA_Approved.sdf\")\n",
    "\n",
    "function loadsdf()\n",
    "    for (i, m) in enumerate(sdfilereader(open(path)))\n",
    "        drawsvg(m, 400, 400)\n",
    "    end\n",
    "    println(\"ok\")\n",
    "    return\n",
    "end"
   ]
  },
  {
   "cell_type": "code",
   "execution_count": 4,
   "metadata": {
    "ExecuteTime": {
     "end_time": "2019-04-17T23:23:21.229000+09:00",
     "start_time": "2019-04-17T14:23:11.712Z"
    }
   },
   "outputs": [
    {
     "name": "stdout",
     "output_type": "stream",
     "text": [
      "ok\n",
      "18166 ./task.jl:259; (::getfield(IJulia, Symbol(\"##15#...\n",
      " 18166 ...jEtl/src/eventloop.jl:8; eventloop(::ZMQ.Socket)\n",
      "  18166 ./essentials.jl:741; invokelatest\n",
      "   18166 ./essentials.jl:742; #invokelatest#1\n",
      "    18166 ...c/execute_request.jl:67; execute_request(::ZMQ.Socket, :...\n",
      "     18165 .../SoftGlobalScope.jl:218; softscope_include_string(::Mod...\n",
      "      18165 ./boot.jl:328; eval\n",
      "       778   ./In[2]:5; loadsdf()\n",
      "        775 ./iterators.jl:138; iterate\n",
      "         775 ./iterators.jl:139; iterate\n",
      "          775 ...rc/sdfilereader.jl:161; iterate\n",
      "           774 ...c/sdfilereader.jl:166; iterate(::SDFileReader, ::No...\n",
      "       16069 ./In[2]:6; loadsdf()\n",
      "        875   ./iterators.jl:139; iterate\n",
      "         628 ...rc/sdfilereader.jl:166; iterate(::SDFileReader, ::Not...\n",
      "          611 ...rc/sdfilereader.jl:143; nohaltsupplier(::Array{Strin...\n",
      "        14743 ...jl/src/draw/svg.jl:102; drawsvg(::GraphMol{SDFileAto...\n",
      "         14743 ...rc/draw/draw2d.jl:199; draw2d!\n",
      "          547  ...rc/draw/draw2d.jl:199; #draw2d!#67(::Dict{Symbol,An...\n",
      "          8042 ...rc/draw/draw2d.jl:208; #draw2d!#67(::Dict{Symbol,An...\n",
      "           8042 ...rc/draw/draw2d.jl:103; bondnotation\n",
      "            6285 ...rc/draw/draw2d.jl:133; #bondnotation#66(::Dict{Sym...\n",
      "             5541 ...aph/interface.jl:73; mincyclenodes(::GraphMol{S...\n",
      "              5315 ...c/graph/cycle.jl:33; ##372(::GraphMol{SDFileAt...\n",
      "               5296 ...aph/interface.jl:73; mincycleedges(::GraphMol{...\n",
      "                867  .../graph/cycle.jl:19; ##371(::GraphMol{SDFileAt...\n",
      "                 851 ...ph/interface.jl:73; two_edge_connected(::Grap...\n",
      "                4335 .../graph/cycle.jl:21; ##371(::GraphMol{SDFileAt...\n",
      "                 3960 .../graph/cycle.jl:76; mincyclebasis(::Molecula...\n",
      "                  1343 ...graph/cycle.jl:90; findmincycle(::Molecula...\n",
      "                   682 ...sjointunion.jl:68; disjointunion(::Molecul...\n",
      "                    619 ./array.jl:611; collect(::Base.Generat...\n",
      "                     606 ./array.jl:630; collect_to_with_first!\n",
      "                  2128 ...graph/cycle.jl:104; findmincycle(::Molecula...\n",
      "                   2127 ...hortestpath.jl:221; shortestpathedges\n",
      "                    1883 ...ortestpath.jl:209; shortestpathedges(::Fu...\n",
      "                     424 ...ortestpath.jl:40; bfstree_edges(::typeof...\n",
      "                      424 ./dict.jl:546; haskey\n",
      "                     482 ...ortestpath.jl:41; bfstree_edges(::typeof...\n",
      "            1375 ...rc/draw/draw2d.jl:134; #bondnotation#66(::Dict{Sym...\n",
      "             489 ...etry/coords2d.jl:172; isclockwise(::MolecularGra...\n",
      "              489 ./none:0; #cat\n",
      "               489 ./abstractarray.jl:1511; #cat#104\n",
      "                489 ...sparsevector.jl:1066; _cat\n",
      "                 476 ./none:0; (::getfield(Base, Symbol...\n",
      "          426  ...rc/draw/draw2d.jl:209; #draw2d!#67(::Dict{Symbol,An...\n",
      "           421 ...graph/interface.jl:73; implicithcount(::GraphMol{SD...\n",
      "            420 ...src/properties.jl:229; ##384(::GraphMol{SDFileAtom...\n",
      "          2965 ...rc/draw/draw2d.jl:214; #draw2d!#67(::Dict{Symbol,An...\n",
      "           2856 ...l/src/draw/svg.jl:277; setbond!(::SvgCanvas, ::Int...\n",
      "            486 ...l/src/draw/svg.jl:177; singlebond!(::SvgCanvas, ::...\n",
      "            607 ...l/src/draw/svg.jl:178; singlebond!(::SvgCanvas, ::...\n",
      "             607 ...l/src/draw/svg.jl:348; drawline!\n",
      "          1057 ...rc/draw/draw2d.jl:255; #draw2d!#67(::Dict{Symbol,An...\n",
      "           1026 ...l/src/draw/svg.jl:308; setatomcenter!(::SvgCanvas,...\n",
      "            1024 ./none:0; #atomsymbol!\n",
      "             508 ...l/src/draw/svg.jl:286; #atomsymbol!#69(::Symbol, :...\n",
      "       1277  ...piler/typeinfer.jl:613; typeinf_ext(::Core.MethodInst...\n",
      "        1277 ...piler/typeinfer.jl:576; typeinf_ext(::Core.MethodInst...\n",
      "         1276 ...piler/typeinfer.jl:14; typeinf(::Core.Compiler.Infer...\n",
      "          1276 ...interpretation.jl:1191; typeinf_nocycle(::Core.Comp...\n",
      "           1268 ...interpretation.jl:1135; typeinf_local(::Core.Compil...\n",
      "            1268 ...interpretation.jl:890; abstract_eval(::Any, ::Arra...\n",
      "             1268 ...nterpretation.jl:805; abstract_eval_call(::Array...\n",
      "              1268 ...nterpretation.jl:776; abstract_call(::Any, ::Ar...\n",
      "               1268 ...nterpretation.jl:85; abstract_call_gf_by_type(...\n",
      "                1268 ...terpretation.jl:345; abstract_call_method(::M...\n",
      "                 1268 ...er/typeinfer.jl:497; typeinf_edge(::Method, :...\n",
      "                  1266 ...er/typeinfer.jl:14; typeinf(::Core.Compiler....\n",
      "                   1266 ...rpretation.jl:1191; typeinf_nocycle(::Core...\n",
      "                    1259 ...rpretation.jl:1135; typeinf_local(::Core....\n",
      "                     1259 ...rpretation.jl:890; abstract_eval(::Any, ...\n",
      "                      1259 ...rpretation.jl:805; abstract_eval_call(::...\n",
      "                       1258 ...pretation.jl:776; abstract_call(::Any,...\n",
      "                        1251 ...pretation.jl:85; abstract_call_gf_by...\n",
      "                         1251 ...retation.jl:345; abstract_call_metho...\n",
      "                          1250 ...ypeinfer.jl:497; typeinf_edge(::Met...\n",
      "                           1247 ...ypeinfer.jl:14; typeinf(::Core.Com...\n",
      "                            1247 ...etation.jl:1191; typeinf_nocycle(...\n",
      "                             1243 ...tation.jl:1135; typeinf_local(::...\n",
      "                              1242 ...tation.jl:890; abstract_eval(::...\n",
      "                               1242 ...tation.jl:805; abstract_eval_c...\n",
      "                                1233 ...tation.jl:776; abstract_call(:...\n",
      "                                 1232 ...ation.jl:85; abstract_call_...\n",
      "                                  1232 ...ation.jl:345; abstract_call...\n",
      "                                   1232 ...nfer.jl:497; typeinf_edge(...\n",
      "                                    1227 ...nfer.jl:14; typeinf(::Cor...\n",
      "                                     1227 ...ion.jl:1191; typeinf_noc...\n",
      "                                      529 ...ion.jl:1121; typeinf_loc...\n",
      "                                       529 ...ion.jl:890; abstract_ev...\n",
      "                                        529 ...ion.jl:805; abstract_e...\n",
      "                                     +1 529 ...ion.jl:776; abstract_c...\n",
      "                                     +2 529 ...ion.jl:85; abstract_ca...\n",
      "                                     +3 529 ...ion.jl:345; abstract_c...\n",
      "                                     +4 529 ...fer.jl:497; typeinf_ed...\n",
      "                                     +5 524 ...fer.jl:14; typeinf(::C...\n",
      "                                     +6 524 ...on.jl:1191; typeinf_no...\n",
      "                                     +7 520 ...on.jl:1135; typeinf_lo...\n",
      "                                     +8 520 ...ion.jl:890; abstract_e...\n",
      "                                     +9 520 ...ion.jl:805; abstract_e...\n",
      "                                    +10 519 ...ion.jl:776; abstract_c...\n",
      "                                    +11 519 ...ion.jl:85; abstract_ca...\n",
      "                                    +12 519 ...ion.jl:345; abstract_c...\n",
      "                                    +13 519 ...fer.jl:497; typeinf_ed...\n",
      "                                    +14 511 ...fer.jl:14; typeinf(::C...\n",
      "                                    +15 511 ...on.jl:1191; typeinf_no...\n",
      "                                    +16 448 ...on.jl:1135; typeinf_lo...\n",
      "                                    +17 448 ...ion.jl:890; abstract_e...\n",
      "                                    +18 448 ...ion.jl:805; abstract_e...\n",
      "                                    +19 448 ...ion.jl:776; abstract_c...\n",
      "                                    +20 438 ...ion.jl:85; abstract_c...\n",
      "                                    +21 438 ...ion.jl:345; abstract_c...\n",
      "                                    +22 437 ...fer.jl:497; typeinf_ed...\n",
      "                                    +23 431 ...fer.jl:14; typeinf(::C...\n",
      "                                    +24 431 ...on.jl:1191; typeinf_no...\n",
      "                                      697 ...ion.jl:1135; typeinf_loc...\n",
      "                                       697 ...ion.jl:890; abstract_ev...\n",
      "                                        697 ...ion.jl:805; abstract_e...\n",
      "                                     +1 697 ...ion.jl:776; abstract_c...\n",
      "                                     +2 696 ...ion.jl:85; abstract_c...\n",
      "                                     +3 696 ...ion.jl:345; abstract_c...\n",
      "                                     +4 696 ...fer.jl:497; typeinf_ed...\n",
      "                                     +5 694 ...fer.jl:14; typeinf(::C...\n",
      "                                     +6 694 ...on.jl:1191; typeinf_no...\n",
      "                                     +7 694 ...on.jl:1135; typeinf_lo...\n",
      "                                     +8 694 ...ion.jl:890; abstract_e...\n",
      "                                     +9 694 ...ion.jl:805; abstract_e...\n",
      "                                    +10 692 ...ion.jl:776; abstract_c...\n",
      "                                    +11 680 ...ion.jl:85; abstract_c...\n",
      "                                    +12 680 ...ion.jl:345; abstract_c...\n",
      "                                    +13 679 ...fer.jl:497; typeinf_ed...\n",
      "                                    +14 660 ...fer.jl:14; typeinf(::C...\n",
      "                                    +15 660 ...on.jl:1191; typeinf_no...\n",
      "                                    +16 553 ...on.jl:1135; typeinf_lo...\n",
      "                                    +17 553 ...ion.jl:890; abstract_e...\n",
      "                                    +18 553 ...ion.jl:805; abstract_e...\n",
      "                                    +19 491 ...ion.jl:776; abstract_c...\n",
      "                                    +20 467 ...ion.jl:85; abstract_c...\n",
      "                                    +21 467 ...ion.jl:345; abstract_c...\n",
      "                                    +22 464 ...fer.jl:497; typeinf_ed...\n",
      "                                    +23 450 ...fer.jl:14; typeinf(::C...\n",
      "                                    +24 450 ...on.jl:1191; typeinf_no...\n"
     ]
    }
   ],
   "source": [
    "@profile loadsdf()\n",
    "Profile.print(mincount=400)"
   ]
  }
 ],
 "metadata": {
  "kernelspec": {
   "display_name": "Julia 1.1.0",
   "language": "julia",
   "name": "julia-1.1"
  },
  "language_info": {
   "file_extension": ".jl",
   "mimetype": "application/julia",
   "name": "julia",
   "version": "1.1.0"
  }
 },
 "nbformat": 4,
 "nbformat_minor": 2
}

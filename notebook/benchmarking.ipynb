{
 "cells": [
  {
   "cell_type": "code",
   "execution_count": 1,
   "metadata": {
    "ExecuteTime": {
     "end_time": "2019-04-22T23:19:35.586000+09:00",
     "start_time": "2019-04-22T14:19:32.689Z"
    },
    "scrolled": false
   },
   "outputs": [
    {
     "data": {
      "text/plain": [
       "\"../_resources/open structures.sdf\""
      ]
     },
     "execution_count": 1,
     "metadata": {},
     "output_type": "execute_result"
    }
   ],
   "source": [
    "import Pkg\n",
    "Pkg.activate(\"..\")\n",
    "using Profile\n",
    "using MolecularGraph\n",
    "\n",
    "path =  joinpath(dirname(@__FILE__), \"..\", \"_resources\", \"open structures.sdf\")\n",
    "# path =  joinpath(dirname(@__FILE__), \"..\", \"_resources\", \"DrugBank_FDA_Approved.sdf\")"
   ]
  },
  {
   "cell_type": "code",
   "execution_count": 2,
   "metadata": {
    "ExecuteTime": {
     "end_time": "2019-04-22T23:09:29.414000+09:00",
     "start_time": "2019-04-22T14:09:28.870Z"
    }
   },
   "outputs": [
    {
     "data": {
      "text/plain": [
       "loadsdf (generic function with 1 method)"
      ]
     },
     "execution_count": 2,
     "metadata": {},
     "output_type": "execute_result"
    }
   ],
   "source": [
    "function loadsdf()\n",
    "    for (i, m) in enumerate(sdfilereader(open(path)))\n",
    "        drawsvg(m, 400, 400)\n",
    "    end\n",
    "    println(\"ok\")\n",
    "    return\n",
    "end"
   ]
  },
  {
   "cell_type": "code",
   "execution_count": 3,
   "metadata": {
    "ExecuteTime": {
     "end_time": "2019-04-22T23:09:55.382000+09:00",
     "start_time": "2019-04-22T14:09:35.419Z"
    },
    "scrolled": true
   },
   "outputs": [
    {
     "name": "stdout",
     "output_type": "stream",
     "text": [
      "ok\n",
      "11963 ./task.jl:259; (::getfield(IJulia, Symbol(\"##15#...\n",
      " 11963 ...jEtl/src/eventloop.jl:8; eventloop(::ZMQ.Socket)\n",
      "  11963 ./essentials.jl:741; invokelatest\n",
      "   11963 ./essentials.jl:742; #invokelatest#1\n",
      "    11963 ...c/execute_request.jl:67; execute_request(::ZMQ.Socket, :...\n",
      "     11962 .../SoftGlobalScope.jl:218; softscope_include_string(::Mod...\n",
      "      11962 ./boot.jl:328; eval\n",
      "       754  ./In[2]:2; loadsdf()\n",
      "        750 ./iterators.jl:138; iterate\n",
      "         750 ./iterators.jl:139; iterate\n",
      "          750 ...rc/sdfilereader.jl:161; iterate\n",
      "           749 ...c/sdfilereader.jl:166; iterate(::SDFileReader, ::No...\n",
      "       9981 ./In[2]:3; loadsdf()\n",
      "        444  ./iterators.jl:139; iterate\n",
      "        9223 ...jl/src/draw/svg.jl:105; drawsvg(::GraphMol{SDFileAtom...\n",
      "         9223 ...src/draw/draw2d.jl:195; draw2d!\n",
      "          455  ...rc/draw/draw2d.jl:195; #draw2d!#67(::Dict{Symbol,An...\n",
      "          4467 ...rc/draw/draw2d.jl:204; #draw2d!#67(::Dict{Symbol,An...\n",
      "           4467 ...rc/draw/draw2d.jl:103; bondnotation\n",
      "            3937 ...rc/draw/draw2d.jl:133; #bondnotation#66(::Dict{Sym...\n",
      "             3279 ...aph/interface.jl:75; mincyclenodes(::GraphMol{S...\n",
      "              3036 ...c/graph/cycle.jl:33; ##372(::GraphMol{SDFileAt...\n",
      "               3030 ...aph/interface.jl:75; mincycleedges(::GraphMol{...\n",
      "                483  .../graph/cycle.jl:19; ##371(::GraphMol{SDFileA...\n",
      "                 476 ...ph/interface.jl:75; two_edge_connected(::Gra...\n",
      "                2484 .../graph/cycle.jl:21; ##371(::GraphMol{SDFileA...\n",
      "                 2227 .../graph/cycle.jl:82; mincyclebasis(::Molecula...\n",
      "                  710  ...graph/cycle.jl:96; findmincycle(::Molecula...\n",
      "                  1138 ...graph/cycle.jl:110; findmincycle(::Molecula...\n",
      "                   1138 ...hortestpath.jl:221; shortestpathedges\n",
      "                    993 ...hortestpath.jl:209; shortestpathedges(::Fu...\n",
      "          2501 ...rc/draw/draw2d.jl:210; #draw2d!#67(::Dict{Symbol,An...\n",
      "           2389 ...l/src/draw/svg.jl:279; setbond!(::SvgCanvas, ::Int...\n",
      "            698 ...iler/typeinfer.jl:613; typeinf_ext(::Core.MethodIn...\n",
      "             695 ...iler/typeinfer.jl:576; typeinf_ext(::Core.MethodIn...\n",
      "              688 ...iler/typeinfer.jl:14; typeinf(::Core.Compiler.Inf...\n",
      "               688 ...terpretation.jl:1191; typeinf_nocycle(::Core.Co...\n",
      "                407 ...terpretation.jl:1135; typeinf_local(::Core.Com...\n",
      "                 407 ...terpretation.jl:890; abstract_eval(::Any, ::A...\n",
      "                  407 ...terpretation.jl:805; abstract_eval_call(::Arr...\n",
      "                   405 ...erpretation.jl:776; abstract_call(::Any, ::...\n",
      "            461 ...l/src/draw/svg.jl:181; singlebond!(::SvgCanvas, ::...\n",
      "             461 ...l/src/draw/svg.jl:349; drawline!\n",
      "          542  ...rc/draw/draw2d.jl:251; #draw2d!#67(::Dict{Symbol,An...\n",
      "           521 ...l/src/draw/svg.jl:309; setatomcenter!(::SvgCanvas, ...\n",
      "            518 ./none:0; #atomsymbol!\n",
      "       1189 ...mpiler/typeinfer.jl:613; typeinf_ext(::Core.MethodInsta...\n",
      "        1189 ...piler/typeinfer.jl:576; typeinf_ext(::Core.MethodInst...\n",
      "         1187 ...piler/typeinfer.jl:14; typeinf(::Core.Compiler.Infer...\n",
      "          1187 ...interpretation.jl:1191; typeinf_nocycle(::Core.Comp...\n",
      "           1181 ...interpretation.jl:1135; typeinf_local(::Core.Compil...\n",
      "            1181 ...interpretation.jl:890; abstract_eval(::Any, ::Arra...\n",
      "             1181 ...nterpretation.jl:805; abstract_eval_call(::Array...\n",
      "              1181 ...nterpretation.jl:776; abstract_call(::Any, ::Ar...\n",
      "               1181 ...nterpretation.jl:85; abstract_call_gf_by_type(...\n",
      "                1181 ...terpretation.jl:345; abstract_call_method(::M...\n",
      "                 1181 ...er/typeinfer.jl:497; typeinf_edge(::Method, :...\n",
      "                  1179 ...er/typeinfer.jl:14; typeinf(::Core.Compiler....\n",
      "                   1179 ...rpretation.jl:1191; typeinf_nocycle(::Core...\n",
      "                    1173 ...rpretation.jl:1135; typeinf_local(::Core....\n",
      "                     1173 ...rpretation.jl:890; abstract_eval(::Any, ...\n",
      "                      1173 ...rpretation.jl:805; abstract_eval_call(::...\n",
      "                       1173 ...pretation.jl:776; abstract_call(::Any,...\n",
      "                        1164 ...pretation.jl:85; abstract_call_gf_by...\n",
      "                         1164 ...retation.jl:345; abstract_call_metho...\n",
      "                          1164 ...ypeinfer.jl:497; typeinf_edge(::Met...\n",
      "                           1162 ...ypeinfer.jl:14; typeinf(::Core.Com...\n",
      "                            1162 ...etation.jl:1191; typeinf_nocycle(...\n",
      "                             1155 ...tation.jl:1135; typeinf_local(::...\n",
      "                              1155 ...tation.jl:890; abstract_eval(::...\n",
      "                               1155 ...tation.jl:805; abstract_eval_c...\n",
      "                                1153 ...tation.jl:776; abstract_call(:...\n",
      "                                 1153 ...tation.jl:85; abstract_call_g...\n",
      "                                  1153 ...ation.jl:345; abstract_call...\n",
      "                                   1153 ...nfer.jl:497; typeinf_edge(...\n",
      "                                    1150 ...nfer.jl:14; typeinf(::Cor...\n",
      "                                     1150 ...ion.jl:1191; typeinf_noc...\n",
      "                                      559 ...ion.jl:1121; typeinf_loc...\n",
      "                                       559 ...ion.jl:890; abstract_ev...\n",
      "                                        559 ...ion.jl:805; abstract_e...\n",
      "                                     +1 559 ...ion.jl:776; abstract_c...\n",
      "                                     +2 558 ...ion.jl:85; abstract_c...\n",
      "                                     +3 558 ...ion.jl:345; abstract_c...\n",
      "                                     +4 558 ...fer.jl:497; typeinf_ed...\n",
      "                                     +5 557 ...fer.jl:14; typeinf(::C...\n",
      "                                     +6 557 ...on.jl:1191; typeinf_no...\n",
      "                                     +7 546 ...on.jl:1135; typeinf_lo...\n",
      "                                     +8 546 ...ion.jl:890; abstract_e...\n",
      "                                     +9 546 ...ion.jl:805; abstract_e...\n",
      "                                    +10 546 ...ion.jl:776; abstract_c...\n",
      "                                    +11 543 ...ion.jl:85; abstract_c...\n",
      "                                    +12 543 ...ion.jl:345; abstract_c...\n",
      "                                    +13 543 ...fer.jl:497; typeinf_ed...\n",
      "                                    +14 537 ...fer.jl:14; typeinf(::C...\n",
      "                                    +15 537 ...on.jl:1191; typeinf_no...\n",
      "                                    +16 434 ...on.jl:1135; typeinf_lo...\n",
      "                                    +17 434 ...ion.jl:890; abstract_e...\n",
      "                                    +18 434 ...ion.jl:805; abstract_e...\n",
      "                                    +19 429 ...ion.jl:776; abstract_c...\n",
      "                                    +20 421 ...ion.jl:85; abstract_c...\n",
      "                                    +21 421 ...ion.jl:345; abstract_c...\n",
      "                                    +22 421 ...fer.jl:497; typeinf_ed...\n",
      "                                    +23 414 ...fer.jl:14; typeinf(::C...\n",
      "                                    +24 414 ...on.jl:1191; typeinf_no...\n",
      "                                      591 ...ion.jl:1135; typeinf_loc...\n",
      "                                       591 ...ion.jl:890; abstract_ev...\n",
      "                                        591 ...ion.jl:805; abstract_e...\n",
      "                                     +1 591 ...ion.jl:776; abstract_c...\n",
      "                                     +2 589 ...ion.jl:85; abstract_c...\n",
      "                                     +3 589 ...ion.jl:345; abstract_c...\n",
      "                                     +4 589 ...fer.jl:497; typeinf_ed...\n",
      "                                     +5 584 ...fer.jl:14; typeinf(::C...\n",
      "                                     +6 584 ...on.jl:1191; typeinf_no...\n",
      "                                     +7 560 ...on.jl:1135; typeinf_lo...\n",
      "                                     +8 560 ...ion.jl:890; abstract_e...\n",
      "                                     +9 560 ...ion.jl:805; abstract_e...\n",
      "                                    +10 558 ...ion.jl:776; abstract_c...\n",
      "                                    +11 546 ...ion.jl:85; abstract_c...\n",
      "                                    +12 546 ...ion.jl:345; abstract_c...\n",
      "                                    +13 546 ...fer.jl:497; typeinf_ed...\n",
      "                                    +14 536 ...fer.jl:14; typeinf(::C...\n",
      "                                    +15 536 ...on.jl:1191; typeinf_no...\n",
      "                                    +16 417 ...on.jl:1135; typeinf_lo...\n",
      "                                    +17 417 ...ion.jl:890; abstract_e...\n",
      "                                    +18 415 ...ion.jl:805; abstract_e...\n"
     ]
    }
   ],
   "source": [
    "Profile.clear()\n",
    "@profile loadsdf()\n",
    "Profile.print(mincount=400)"
   ]
  },
  {
   "cell_type": "code",
   "execution_count": 2,
   "metadata": {
    "ExecuteTime": {
     "end_time": "2019-04-22T23:19:50.258000+09:00",
     "start_time": "2019-04-22T14:19:49.726Z"
    }
   },
   "outputs": [
    {
     "data": {
      "text/plain": [
       "substrsearch (generic function with 1 method)"
      ]
     },
     "execution_count": 2,
     "metadata": {},
     "output_type": "execute_result"
    }
   ],
   "source": [
    "function substrsearch(smarts)\n",
    "    query = parse(SMARTS, smarts)\n",
    "    for (i, m) in enumerate(Iterators.take(sdfilereader(path), 200))\n",
    "        isquerymatch(m, query)\n",
    "    end\n",
    "end"
   ]
  },
  {
   "cell_type": "code",
   "execution_count": 4,
   "metadata": {
    "ExecuteTime": {
     "end_time": "2019-04-22T23:21:40.534000+09:00",
     "start_time": "2019-04-22T14:21:39.597Z"
    },
    "scrolled": true
   },
   "outputs": [
    {
     "name": "stdout",
     "output_type": "stream",
     "text": [
      "5384 ./task.jl:259; (::getfield(IJulia, Symbol(\"##15#1...\n",
      " 5384 ...fjEtl/src/eventloop.jl:8; eventloop(::ZMQ.Socket)\n",
      "  5384 ./essentials.jl:741; invokelatest\n",
      "   5384 ./essentials.jl:742; #invokelatest#1\n",
      "    5384 ...c/execute_request.jl:67; execute_request(::ZMQ.Socket, ::...\n",
      "     5382 .../SoftGlobalScope.jl:218; softscope_include_string(::Modu...\n",
      "      5382 ./boot.jl:328; eval\n",
      "       697  ./In[2]:2; substrsearch(::String)\n",
      "       692  ./In[2]:3; substrsearch(::String)\n",
      "        689 ./iterators.jl:138; iterate\n",
      "         689 ./iterators.jl:139; iterate\n",
      "          689 ./iterators.jl:584; iterate\n",
      "           689 ./iterators.jl:586; iterate\n",
      "            689 ...c/sdfilereader.jl:161; iterate\n",
      "             688 ...c/sdfilereader.jl:166; iterate(::SDFileReader, ::N...\n",
      "       3444 ./In[2]:4; substrsearch(::String)\n",
      "        3043 ...rc/substructure.jl:116; isquerymatch(::GraphMol{SDFil...\n",
      "         3043 ...rc/substructure.jl:116; #isquerymatch#12\n",
      "          3043 ...rc/substructure.jl:78; querymatch\n",
      "           2927 ./none:0; #querymatch#11(::Base.Itera...\n",
      "            2795 ...somorphism/vf2.jl:243; #edgeisomorphismitervf2#122...\n",
      "             2779 ./none:0; (::getfield(MolecularGraph...\n",
      "              2333 ...omorphism/vf2.jl:205; #expand!#120(::Base.Itera...\n",
      "               2333 ./none:0; #is_semantic_feasible\n",
      "                2294 ...morphism/vf2.jl:112; #is_semantic_feasible#11...\n",
      "                 1824 .../edgeinduced.jl:58; (::getfield(MolecularGra...\n",
      "                  1824 ...ubstructure.jl:241; (::getfield(MolecularGr...\n",
      "                   1703 ...ubstructure.jl:251; querymatchtree(::Pair{...\n",
      "                    1662 ./reduce.jl:540; any(::Base.Generator{T...\n",
      "                     1662 ./reduce.jl:611; any\n",
      "                      1566 ./reduce.jl:620; _any(::typeof(identit...\n",
      "                       1566 ./generator.jl:47; iterate\n",
      "                        1566 ./none:0; #35\n",
      "                         1566 ...tructure.jl:264; querymatchtree(::Pa...\n",
      "                          1561 ...molgraph.jl:145; getindex(::GraphMo...\n",
      "                           1561 ...larGraph.jl:6; eval\n",
      "                            1561 ./boot.jl:328; eval\n",
      "                 469  .../edgeinduced.jl:61; (::getfield(MolecularGra...\n",
      "                  469 ...substructure.jl:231; (::getfield(MolecularGra...\n",
      "       540  ...mpiler/typeinfer.jl:613; typeinf_ext(::Core.MethodInsta...\n",
      "        540 ...mpiler/typeinfer.jl:576; typeinf_ext(::Core.MethodInsta...\n",
      "         539 ...mpiler/typeinfer.jl:14; typeinf(::Core.Compiler.Infere...\n",
      "          539 ...interpretation.jl:1191; typeinf_nocycle(::Core.Compi...\n",
      "           531 ...interpretation.jl:1135; typeinf_local(::Core.Compil...\n",
      "            531 ...interpretation.jl:890; abstract_eval(::Any, ::Arra...\n",
      "             531 ...interpretation.jl:805; abstract_eval_call(::Array{...\n",
      "              531 ...nterpretation.jl:776; abstract_call(::Any, ::Arr...\n",
      "               530 ...nterpretation.jl:85; abstract_call_gf_by_type(...\n",
      "                530 ...terpretation.jl:345; abstract_call_method(::Me...\n",
      "                 530 ...er/typeinfer.jl:497; typeinf_edge(::Method, :...\n",
      "                  530 ...er/typeinfer.jl:14; typeinf(::Core.Compiler....\n",
      "                   530 ...erpretation.jl:1191; typeinf_nocycle(::Core...\n",
      "                    530 ...rpretation.jl:1135; typeinf_local(::Core.C...\n",
      "                     530 ...rpretation.jl:890; abstract_eval(::Any, :...\n",
      "                      530 ...rpretation.jl:805; abstract_eval_call(::...\n",
      "                       530 ...rpretation.jl:776; abstract_call(::Any, ...\n",
      "                        530 ...rpretation.jl:85; abstract_call_gf_by_t...\n",
      "                         530 ...pretation.jl:345; abstract_call_metho...\n",
      "                          530 ...ypeinfer.jl:497; typeinf_edge(::Meth...\n",
      "                           527 ...ypeinfer.jl:14; typeinf(::Core.Comp...\n",
      "                            527 ...etation.jl:1191; typeinf_nocycle(:...\n",
      "                             522 ...etation.jl:1121; typeinf_local(::...\n",
      "                              522 ...etation.jl:890; abstract_eval(::...\n",
      "                               522 ...tation.jl:805; abstract_eval_ca...\n",
      "                                522 ...tation.jl:776; abstract_call(:...\n",
      "                                 522 ...tation.jl:85; abstract_call_g...\n",
      "                                  522 ...ation.jl:345; abstract_call_...\n",
      "                                   522 ...infer.jl:497; typeinf_edge(...\n",
      "                                    522 ...infer.jl:14; typeinf(::Cor...\n",
      "                                     522 ...tion.jl:1191; typeinf_nocy...\n",
      "                                      522 ...ion.jl:1135; typeinf_loc...\n",
      "                                       522 ...ion.jl:890; abstract_ev...\n",
      "                                        522 ...ion.jl:805; abstract_e...\n",
      "                                     +1 522 ...ion.jl:776; abstract_c...\n",
      "                                     +2 522 ...ion.jl:85; abstract_ca...\n",
      "                                     +3 522 ...ion.jl:345; abstract_c...\n",
      "                                     +4 522 ...fer.jl:497; typeinf_ed...\n",
      "                                     +5 519 ...fer.jl:14; typeinf(::C...\n",
      "                                     +6 519 ...on.jl:1191; typeinf_no...\n",
      "1352 ...rc/graph/interface.jl:75; isaromaticbond(::GraphMol{SDFileAt...\n",
      " 1349 ....jl/src/properties.jl:341; ##407(::GraphMol{SDFileAtom,SDFil...\n",
      "  518 ...rc/graph/interface.jl:75; mincyclenodes(::GraphMol{SDFileAt...\n",
      "   444 ...jl/src/graph/cycle.jl:33; ##372(::GraphMol{SDFileAtom,SDFil...\n",
      "    442 ...rc/graph/interface.jl:75; mincycleedges(::GraphMol{SDFileAt...\n"
     ]
    }
   ],
   "source": [
    "# Profile.clear()\n",
    "@profile substrsearch(\"[OX2][OX2]\")\n",
    "Profile.print(mincount=400)"
   ]
  }
 ],
 "metadata": {
  "kernelspec": {
   "display_name": "Julia 1.1.0",
   "language": "julia",
   "name": "julia-1.1"
  },
  "language_info": {
   "file_extension": ".jl",
   "mimetype": "application/julia",
   "name": "julia",
   "version": "1.1.0"
  }
 },
 "nbformat": 4,
 "nbformat_minor": 2
}

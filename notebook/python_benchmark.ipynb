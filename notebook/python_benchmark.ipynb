{
 "cells": [
  {
   "cell_type": "code",
   "execution_count": 3,
   "metadata": {
    "ExecuteTime": {
     "end_time": "2018-12-24T13:43:37.327978Z",
     "start_time": "2018-12-24T13:43:37.324126Z"
    }
   },
   "outputs": [],
   "source": [
    "import itertools\n",
    "from chorus import v2000reader as reader\n",
    "from chorus.draw.svg import SVG\n",
    "molsiter = reader.mols_from_file(\"../_resources/open structures.sdf\")"
   ]
  },
  {
   "cell_type": "code",
   "execution_count": 4,
   "metadata": {
    "ExecuteTime": {
     "end_time": "2018-12-24T13:44:02.054591Z",
     "start_time": "2018-12-24T13:43:39.330175Z"
    }
   },
   "outputs": [
    {
     "name": "stdout",
     "output_type": "stream",
     "text": [
      "Unsupported symbol: Ho (#4597 in v2000reader)\n",
      "Unsupported symbol: Zr (#7583 in v2000reader)\n",
      "Unsupported symbol: Ac (#8719 in v2000reader)\n",
      "Unsupported symbol: Bk (#8831 in v2000reader)\n",
      "Unsupported symbol: Nb (#8865 in v2000reader)\n",
      "Unsupported symbol: Zr (#9200 in v2000reader)\n",
      "Unsupported symbol: Cd (#9232 in v2000reader)\n"
     ]
    }
   ],
   "source": [
    "for mol in molsiter:\n",
    "    svg = SVG(mol)\n",
    "    svg.contents()"
   ]
  },
  {
   "cell_type": "code",
   "execution_count": 7,
   "metadata": {
    "ExecuteTime": {
     "end_time": "2018-12-24T13:44:30.224977Z",
     "start_time": "2018-12-24T13:44:30.220353Z"
    }
   },
   "outputs": [],
   "source": [
    "from rdkit import Chem\n",
    "from rdkit.Chem.Draw import rdMolDraw2D\n",
    "from IPython.display import SVG as ISVG\n",
    "\n",
    "def drawsvg(mol):\n",
    "    drawer = rdMolDraw2D.MolDraw2DSVG(400,400)\n",
    "    drawer.DrawMolecule(mol)\n",
    "    drawer.FinishDrawing()\n",
    "    svg = drawer.GetDrawingText().replace('svg:','')\n",
    "    ISVG(svg)\n",
    "\n",
    "molsiter = Chem.SDMolSupplier(\"../_resources/open structures.sdf\")"
   ]
  },
  {
   "cell_type": "code",
   "execution_count": 8,
   "metadata": {
    "ExecuteTime": {
     "end_time": "2018-12-24T13:44:52.218533Z",
     "start_time": "2018-12-24T13:44:31.917645Z"
    }
   },
   "outputs": [],
   "source": [
    "for mol in molsiter:\n",
    "    if mol is None:\n",
    "        continue\n",
    "    drawsvg(mol)"
   ]
  }
 ],
 "metadata": {
  "kernelspec": {
   "display_name": "Python 3",
   "language": "python",
   "name": "python3"
  },
  "language_info": {
   "codemirror_mode": {
    "name": "ipython",
    "version": 3
   },
   "file_extension": ".py",
   "mimetype": "text/x-python",
   "name": "python",
   "nbconvert_exporter": "python",
   "pygments_lexer": "ipython3",
   "version": "3.6.6"
  }
 },
 "nbformat": 4,
 "nbformat_minor": 2
}

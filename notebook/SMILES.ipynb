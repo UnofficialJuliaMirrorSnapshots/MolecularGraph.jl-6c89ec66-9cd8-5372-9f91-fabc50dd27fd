{
 "cells": [
  {
   "cell_type": "markdown",
   "metadata": {},
   "source": [
    "# Working with SMILES\n",
    "\n",
    "- `MolecularGraphIO.smilestomol` converts SMILES string into `Molecule` object.\n",
    "- As SMILES has no coordinate information, `drawsvg!` will automatically assign 2D coordinates by using `Drawing.coords2d`."
   ]
  },
  {
   "cell_type": "code",
   "execution_count": 1,
   "metadata": {
    "ExecuteTime": {
     "end_time": "2018-11-07T13:16:11.645000+09:00",
     "start_time": "2018-11-07T04:16:08.203Z"
    }
   },
   "outputs": [],
   "source": [
    "import Pkg\n",
    "Pkg.activate(\"..\")\n",
    "\n",
    "using MolecularGraph"
   ]
  },
  {
   "cell_type": "code",
   "execution_count": 2,
   "metadata": {
    "ExecuteTime": {
     "end_time": "2018-11-07T13:16:31.145000+09:00",
     "start_time": "2018-11-07T04:16:14.197Z"
    },
    "scrolled": true
   },
   "outputs": [
    {
     "data": {
      "image/svg+xml": [
       "<svg xmlns=\"http://www.w3.org/2000/svg\"\n",
       " xmlns:xlink=\"http://www.w3.org/1999/xlink\"\n",
       " version=\"1.2\" baseProfile=\"tiny\"\n",
       " text-rendering=\"geometricPrecision\"\n",
       " preserveAspectRatio=\"xMidYMid meet\"\n",
       " font-weight=\"normal\"\n",
       " font-family=\"Helvetica\"\n",
       " width=\"200\" height=\"200\"\n",
       " viewBox=\"0 0 160.24 128.61\">\n",
       "<rect x=\"0\" y=\"0\" width=\"160.24\" height=\"128.61\"\n",
       " fill=\"rgb(255, 255, 255)\" opacity=\"0.0\"/>\n",
       "<line x1=\"30.00\" y1=\"45.00\"\n",
       " x2=\"39.09\" y2=\"39.75\" stroke=\"rgb(0, 0, 0)\" />\n",
       "<line x1=\"39.09\" y1=\"39.75\"\n",
       " x2=\"48.19\" y2=\"34.50\" stroke=\"rgb(255, 0, 0)\" />\n",
       "<line x1=\"63.77\" y1=\"34.50\"\n",
       " x2=\"72.87\" y2=\"39.75\" stroke=\"rgb(255, 0, 0)\" />\n",
       "<line x1=\"72.87\" y1=\"39.75\"\n",
       " x2=\"81.96\" y2=\"45.00\" stroke=\"rgb(0, 0, 0)\" />\n",
       "<line x1=\"81.96\" y1=\"45.00\"\n",
       " x2=\"107.94\" y2=\"30.00\" stroke=\"rgb(0, 0, 0)\" />\n",
       "<line x1=\"107.94\" y1=\"30.00\"\n",
       " x2=\"130.24\" y2=\"50.07\" stroke=\"rgb(0, 0, 0)\" />\n",
       "<line x1=\"130.24\" y1=\"50.07\"\n",
       " x2=\"118.03\" y2=\"77.48\" stroke=\"rgb(0, 0, 0)\" />\n",
       "<line x1=\"124.91\" y1=\"50.98\"\n",
       " x2=\"115.14\" y2=\"72.91\" stroke=\"rgb(0, 0, 0)\" />\n",
       "<line x1=\"81.96\" y1=\"45.00\"\n",
       " x2=\"88.20\" y2=\"74.34\" stroke=\"rgb(0, 0, 0)\" />\n",
       "<line x1=\"118.03\" y1=\"77.48\"\n",
       " x2=\"88.20\" y2=\"74.34\" stroke=\"rgb(0, 0, 0)\" />\n",
       "<line x1=\"88.20\" y1=\"74.34\"\n",
       " x2=\"70.57\" y2=\"98.61\" stroke=\"rgb(0, 0, 0)\" />\n",
       "<text x=\"55.98\" y=\"37.00\" font-size=\"14.0\"\n",
       " fill=\"rgb(255, 0, 0)\" text-anchor=\"middle\" >O</text>\n",
       "</svg>\n"
      ]
     },
     "metadata": {},
     "output_type": "display_data"
    }
   ],
   "source": [
    "mol = smilestomol(\"COC1CC=CC1C\")\n",
    "mol_svg = drawsvg!(mol, 200, 200)\n",
    "display(\"image/svg+xml\",  mol_svg)"
   ]
  },
  {
   "cell_type": "markdown",
   "metadata": {},
   "source": [
    "## Note\n",
    "\n",
    "- `Drawing.coords2d` does not work well yet."
   ]
  },
  {
   "cell_type": "code",
   "execution_count": 3,
   "metadata": {
    "ExecuteTime": {
     "end_time": "2018-11-07T13:16:33.747000+09:00",
     "start_time": "2018-11-07T04:16:33.569Z"
    },
    "scrolled": false
   },
   "outputs": [
    {
     "data": {
      "image/svg+xml": [
       "<svg xmlns=\"http://www.w3.org/2000/svg\"\n",
       " xmlns:xlink=\"http://www.w3.org/1999/xlink\"\n",
       " version=\"1.2\" baseProfile=\"tiny\"\n",
       " text-rendering=\"geometricPrecision\"\n",
       " preserveAspectRatio=\"xMidYMid meet\"\n",
       " font-weight=\"normal\"\n",
       " font-family=\"Helvetica\"\n",
       " width=\"200\" height=\"200\"\n",
       " viewBox=\"0 0 200.69 241.44\">\n",
       "<rect x=\"0\" y=\"0\" width=\"200.69\" height=\"241.44\"\n",
       " fill=\"rgb(255, 255, 255)\" opacity=\"0.0\"/>\n",
       "<line x1=\"40.79\" y1=\"76.44\"\n",
       " x2=\"49.88\" y2=\"71.19\" stroke=\"rgb(0, 0, 0)\" />\n",
       "<line x1=\"49.88\" y1=\"71.19\"\n",
       " x2=\"58.97\" y2=\"65.94\" stroke=\"rgb(0, 0, 255)\" />\n",
       "<line x1=\"74.56\" y1=\"65.94\"\n",
       " x2=\"83.66\" y2=\"71.19\" stroke=\"rgb(0, 0, 255)\" />\n",
       "<line x1=\"83.66\" y1=\"71.19\"\n",
       " x2=\"92.75\" y2=\"76.44\" stroke=\"rgb(0, 0, 0)\" />\n",
       "<line x1=\"92.75\" y1=\"76.44\"\n",
       " x2=\"92.75\" y2=\"106.44\" stroke=\"rgb(0, 0, 0)\" />\n",
       "<line x1=\"88.25\" y1=\"79.44\"\n",
       " x2=\"88.25\" y2=\"103.44\" stroke=\"rgb(0, 0, 0)\" />\n",
       "<line x1=\"92.75\" y1=\"106.44\"\n",
       " x2=\"66.77\" y2=\"121.44\" stroke=\"rgb(0, 0, 0)\" />\n",
       "<line x1=\"66.77\" y1=\"121.44\"\n",
       " x2=\"66.77\" y2=\"151.44\" stroke=\"rgb(0, 0, 0)\" />\n",
       "<line x1=\"66.77\" y1=\"151.44\"\n",
       " x2=\"92.75\" y2=\"166.44\" stroke=\"rgb(0, 0, 0)\" />\n",
       "<line x1=\"67.12\" y1=\"156.84\"\n",
       " x2=\"87.90\" y2=\"168.84\" stroke=\"rgb(0, 0, 0)\" />\n",
       "<line x1=\"92.75\" y1=\"166.44\"\n",
       " x2=\"92.75\" y2=\"196.44\" stroke=\"rgb(0, 0, 0)\" />\n",
       "<line x1=\"92.75\" y1=\"196.44\"\n",
       " x2=\"66.77\" y2=\"211.44\" stroke=\"rgb(0, 0, 0)\" />\n",
       "<line x1=\"87.90\" y1=\"194.05\"\n",
       " x2=\"67.12\" y2=\"206.05\" stroke=\"rgb(0, 0, 0)\" />\n",
       "<line x1=\"66.77\" y1=\"211.44\"\n",
       " x2=\"40.79\" y2=\"196.44\" stroke=\"rgb(0, 0, 0)\" />\n",
       "<line x1=\"66.77\" y1=\"151.44\"\n",
       " x2=\"40.79\" y2=\"166.44\" stroke=\"rgb(0, 0, 0)\" />\n",
       "<line x1=\"40.79\" y1=\"196.44\"\n",
       " x2=\"40.79\" y2=\"166.44\" stroke=\"rgb(0, 0, 0)\" />\n",
       "<line x1=\"45.29\" y1=\"193.44\"\n",
       " x2=\"45.29\" y2=\"169.44\" stroke=\"rgb(0, 0, 0)\" />\n",
       "<line x1=\"66.77\" y1=\"121.44\"\n",
       " x2=\"56.99\" y2=\"117.61\" stroke=\"rgb(0, 0, 0)\" />\n",
       "<line x1=\"56.99\" y1=\"117.61\"\n",
       " x2=\"47.22\" y2=\"113.77\" stroke=\"rgb(0, 0, 255)\" />\n",
       "<line x1=\"66.46\" y1=\"116.49\"\n",
       " x2=\"58.64\" y2=\"113.42\" stroke=\"rgb(0, 0, 0)\" />\n",
       "<line x1=\"58.64\" y1=\"113.42\"\n",
       " x2=\"50.82\" y2=\"110.35\" stroke=\"rgb(0, 0, 255)\" />\n",
       "<line x1=\"36.19\" y1=\"101.88\"\n",
       " x2=\"33.09\" y2=\"91.85\" stroke=\"rgb(0, 0, 255)\" />\n",
       "<line x1=\"33.09\" y1=\"91.85\"\n",
       " x2=\"30.00\" y2=\"81.82\" stroke=\"rgb(0, 0, 0)\" />\n",
       "<line x1=\"60.81\" y1=\"60.12\"\n",
       " x2=\"53.85\" y2=\"58.57\" stroke=\"rgb(0, 0, 255)\" />\n",
       "<line x1=\"53.85\" y1=\"58.57\"\n",
       " x2=\"46.90\" y2=\"57.03\" stroke=\"rgb(0, 0, 0)\" />\n",
       "<line x1=\"30.00\" y1=\"81.82\"\n",
       " x2=\"46.90\" y2=\"57.03\" stroke=\"rgb(0, 0, 0)\" />\n",
       "<line x1=\"48.93\" y1=\"56.05\"\n",
       " x2=\"44.37\" y2=\"46.59\" stroke=\"rgb(0, 0, 0)\" />\n",
       "<line x1=\"44.37\" y1=\"46.59\"\n",
       " x2=\"39.82\" y2=\"37.13\" stroke=\"rgb(255, 0, 0)\" />\n",
       "<line x1=\"44.87\" y1=\"58.01\"\n",
       " x2=\"40.32\" y2=\"48.55\" stroke=\"rgb(0, 0, 0)\" />\n",
       "<line x1=\"40.32\" y1=\"48.55\"\n",
       " x2=\"35.76\" y2=\"39.08\" stroke=\"rgb(255, 0, 0)\" />\n",
       "<line x1=\"92.75\" y1=\"106.44\"\n",
       " x2=\"118.73\" y2=\"121.44\" stroke=\"rgb(0, 0, 0)\" />\n",
       "<line x1=\"118.73\" y1=\"121.44\"\n",
       " x2=\"144.71\" y2=\"106.44\" stroke=\"rgb(0, 0, 0)\" />\n",
       "<line x1=\"119.08\" y1=\"116.05\"\n",
       " x2=\"139.86\" y2=\"104.05\" stroke=\"rgb(0, 0, 0)\" />\n",
       "<line x1=\"144.71\" y1=\"106.44\"\n",
       " x2=\"153.80\" y2=\"111.69\" stroke=\"rgb(0, 0, 0)\" />\n",
       "<line x1=\"153.80\" y1=\"111.69\"\n",
       " x2=\"162.90\" y2=\"116.94\" stroke=\"rgb(64, 192, 64)\" />\n",
       "<line x1=\"144.71\" y1=\"106.44\"\n",
       " x2=\"144.71\" y2=\"76.44\" stroke=\"rgb(0, 0, 0)\" />\n",
       "<line x1=\"92.75\" y1=\"76.44\"\n",
       " x2=\"118.73\" y2=\"61.44\" stroke=\"rgb(0, 0, 0)\" />\n",
       "<line x1=\"144.71\" y1=\"76.44\"\n",
       " x2=\"118.73\" y2=\"61.44\" stroke=\"rgb(0, 0, 0)\" />\n",
       "<line x1=\"139.86\" y1=\"78.84\"\n",
       " x2=\"119.08\" y2=\"66.84\" stroke=\"rgb(0, 0, 0)\" />\n",
       "<text x=\"66.77\" y=\"68.44\" font-size=\"14.0\"\n",
       " fill=\"rgb(0, 0, 255)\" text-anchor=\"middle\" >N</text>\n",
       "<text x=\"38.84\" y=\"117.48\" font-size=\"14.0\"\n",
       " fill=\"rgb(0, 0, 255)\" text-anchor=\"middle\" >N</text>\n",
       "<text x=\"33.88\" y=\"37.00\" font-size=\"14.0\"\n",
       " fill=\"rgb(255, 0, 0)\" text-anchor=\"middle\" >O</text>\n",
       "<text x=\"170.69\" y=\"128.44\" font-size=\"14.0\"\n",
       " fill=\"rgb(64, 192, 64)\" text-anchor=\"middle\" >Cl</text>\n",
       "</svg>\n"
      ]
     },
     "metadata": {},
     "output_type": "display_data"
    }
   ],
   "source": [
    "mol = smilestomol(\"CN1C2=C(C(C3=CC=CC=C3)=NCC1=O)C=C(Cl)C=C2\")\n",
    "mol_svg = drawsvg!(mol, 200, 200)\n",
    "display(\"image/svg+xml\",  mol_svg)"
   ]
  }
 ],
 "metadata": {
  "kernelspec": {
   "display_name": "Julia 1.1.0",
   "language": "julia",
   "name": "julia-1.1"
  },
  "language_info": {
   "file_extension": ".jl",
   "mimetype": "application/julia",
   "name": "julia",
   "version": "1.1.0"
  }
 },
 "nbformat": 4,
 "nbformat_minor": 2
}
